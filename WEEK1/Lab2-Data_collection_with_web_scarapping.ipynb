{
 "cells": [
  {
   "cell_type": "code",
   "execution_count": 2,
   "id": "8815d518-33ef-43d0-8052-fce8bce68e2f",
   "metadata": {},
   "outputs": [
    {
     "name": "stdout",
     "output_type": "stream",
     "text": [
      "Saved to spacex_web_scraped.csv\n"
     ]
    }
   ],
   "source": [
    "import requests\n",
    "from bs4 import BeautifulSoup\n",
    "import unicodedata\n",
    "import pandas as pd\n",
    "\n",
    "# Static URL\n",
    "static_url = \"https://en.wikipedia.org/w/index.php?title=List_of_Falcon_9_and_Falcon_Heavy_launches&oldid=1027686922\"\n",
    "response = requests.get(static_url)\n",
    "\n",
    "# Create BeautifulSoup object\n",
    "soup = BeautifulSoup(response.text, 'html.parser')\n",
    "\n",
    "# ------------------- Helper Functions ---------------------\n",
    "\n",
    "def date_time(table_cells):\n",
    "    return [data_time.strip() for data_time in list(table_cells.strings)][0:2]\n",
    "\n",
    "def booster_version(table_cells):\n",
    "    return ''.join([booster_version for i, booster_version in enumerate(table_cells.strings) if i % 2 == 0][0:-1])\n",
    "\n",
    "def landing_status(table_cells):\n",
    "    return [i for i in table_cells.strings][0]\n",
    "\n",
    "def get_mass(table_cells):\n",
    "    mass = unicodedata.normalize(\"NFKD\", table_cells.text).strip()\n",
    "    if \"kg\" in mass:\n",
    "        return mass[:mass.find(\"kg\") + 2]\n",
    "    return \"0\"\n",
    "\n",
    "def extract_column_from_header(row):\n",
    "    if row.br:\n",
    "        row.br.extract()\n",
    "    if row.a:\n",
    "        row.a.extract()\n",
    "    if row.sup:\n",
    "        row.sup.extract()\n",
    "    colunm_name = ' '.join(row.contents)\n",
    "    if not(colunm_name.strip().isdigit()):\n",
    "        return colunm_name.strip()\n",
    "\n",
    "# ------------------- Setup Launch Dictionary ---------------------\n",
    "\n",
    "column_names = [\n",
    "    'Flight No.', 'Launch site', 'Payload', 'Payload mass', 'Orbit', 'Customer',\n",
    "    'Launch outcome', 'Version Booster', 'Booster landing', 'Date', 'Time'\n",
    "]\n",
    "\n",
    "launch_dict = {key: [] for key in column_names}\n",
    "\n",
    "# ------------------- Parse Table ---------------------\n",
    "\n",
    "for table in soup.find_all('table', \"wikitable plainrowheaders collapsible\"):\n",
    "    for rows in table.find_all(\"tr\"):\n",
    "        if rows.th and rows.th.string and rows.th.string.strip().isdigit():\n",
    "            flight_number = rows.th.string.strip()\n",
    "            row = rows.find_all('td')\n",
    "            if len(row) >= 9:  # ensure there are enough cells\n",
    "                # Parse each value\n",
    "                datatimelist = date_time(row[0])\n",
    "                date = datatimelist[0].strip(',')\n",
    "                time = datatimelist[1]\n",
    "\n",
    "                bv = booster_version(row[1])\n",
    "                if not bv and row[1].a:\n",
    "                    bv = row[1].a.string\n",
    "\n",
    "                launch_site = row[2].a.string if row[2].a else row[2].text.strip()\n",
    "                payload = row[3].a.string if row[3].a else row[3].text.strip()\n",
    "                payload_mass = get_mass(row[4])\n",
    "                orbit = row[5].a.string if row[5].a else row[5].text.strip()\n",
    "                customer = row[6].a.string if row[6].a else row[6].text.strip()\n",
    "                launch_outcome = list(row[7].strings)[0]\n",
    "                booster_landing = landing_status(row[8])\n",
    "\n",
    "                # Append to dictionary\n",
    "                launch_dict['Flight No.'].append(flight_number)\n",
    "                launch_dict['Date'].append(date)\n",
    "                launch_dict['Time'].append(time)\n",
    "                launch_dict['Version Booster'].append(bv)\n",
    "                launch_dict['Launch site'].append(launch_site)\n",
    "                launch_dict['Payload'].append(payload)\n",
    "                launch_dict['Payload mass'].append(payload_mass)\n",
    "                launch_dict['Orbit'].append(orbit)\n",
    "                launch_dict['Customer'].append(customer)\n",
    "                launch_dict['Launch outcome'].append(launch_outcome)\n",
    "                launch_dict['Booster landing'].append(booster_landing)\n",
    "\n",
    "# ------------------- Convert to DataFrame ---------------------\n",
    "\n",
    "df = pd.DataFrame(launch_dict)\n",
    "df.to_csv('spacex_web_scraped.csv', index=False)\n",
    "print(\"Saved to spacex_web_scraped.csv\")\n"
   ]
  },
  {
   "cell_type": "code",
   "execution_count": 3,
   "id": "3b275ca4-4b2e-497e-90e2-a55315c8ef01",
   "metadata": {},
   "outputs": [
    {
     "name": "stdout",
     "output_type": "stream",
     "text": [
      "<title>List of Falcon 9 and Falcon Heavy launches - Wikipedia</title>\n"
     ]
    }
   ],
   "source": [
    "import requests\n",
    "from bs4 import BeautifulSoup\n",
    "\n",
    "static_url = \"https://en.wikipedia.org/w/index.php?title=List_of_Falcon_9_and_Falcon_Heavy_launches&oldid=1027686922\"\n",
    "response = requests.get(static_url)\n",
    "soup = BeautifulSoup(response.text, 'html.parser')\n",
    "\n",
    "print(soup.title)\n"
   ]
  },
  {
   "cell_type": "code",
   "execution_count": null,
   "id": "6422726d-9332-497d-9dac-231c71ed8dfe",
   "metadata": {},
   "outputs": [],
   "source": []
  }
 ],
 "metadata": {
  "kernelspec": {
   "display_name": "Python 3 (ipykernel)",
   "language": "python",
   "name": "python3"
  },
  "language_info": {
   "codemirror_mode": {
    "name": "ipython",
    "version": 3
   },
   "file_extension": ".py",
   "mimetype": "text/x-python",
   "name": "python",
   "nbconvert_exporter": "python",
   "pygments_lexer": "ipython3",
   "version": "3.11.5"
  }
 },
 "nbformat": 4,
 "nbformat_minor": 5
}
